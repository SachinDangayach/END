{
 "cells": [
  {
   "cell_type": "markdown",
   "metadata": {},
   "source": [
    "## END Session 3 - Assignment by Sachin Dangayach\n",
    "### This assignment is based on the concepts of \"Advanced Python for General Computing & NLP \". We have  used combination of map, reduce, filter, zip, lambda functions and partial functions."
   ]
  },
  {
   "cell_type": "code",
   "execution_count": 1,
   "metadata": {},
   "outputs": [],
   "source": [
    "import operator\n",
    "import random\n",
    "import math\n",
    "from functools import reduce\n",
    "from functools import partial\n",
    "import re"
   ]
  },
  {
   "cell_type": "markdown",
   "metadata": {},
   "source": [
    "## 1: Write a function using only list filter lambda that can tell whether a number is a Fibonacci number or not. You can use a pre-calculated list/dict to store fab numbers till 10000"
   ]
  },
  {
   "cell_type": "code",
   "execution_count": 5,
   "metadata": {},
   "outputs": [],
   "source": [
    "# TODO: 1. Write a function using only list filter lambda that can tell whether a number is a Fibonacci number or not\n",
    "fib = lambda n: reduce(lambda x, _: x+[x[-1]+x[-2]], range(n-2), [0, 1])\n",
    "fib_list = fib(21) # Generate pre-calculated list of Fibobacci number (fib(22) is greater than 10K)"
   ]
  },
  {
   "cell_type": "code",
   "execution_count": 6,
   "metadata": {},
   "outputs": [
    {
     "data": {
      "text/plain": [
       "[1, 2, 3, 55, 144]"
      ]
     },
     "execution_count": 6,
     "metadata": {},
     "output_type": "execute_result"
    }
   ],
   "source": [
    "# Test\n",
    "test_list = [1,2,3,4,6,55,67,99,144]\n",
    "list(filter(lambda x: True if x in fib_list else False,test_list)) #<- Solution 1"
   ]
  },
  {
   "cell_type": "markdown",
   "metadata": {},
   "source": [
    "## 2: Using list comprehension (and zip/lambda/etc if required) write five different expressions that: \n",
    "### 2.1: Add 2 iterables a and b such that a is even and b is odd"
   ]
  },
  {
   "cell_type": "code",
   "execution_count": 11,
   "metadata": {},
   "outputs": [],
   "source": [
    "# TODO: 2.1 add 2 iterables a and b such that a is even and b is odd\n",
    "l1 = list(range(10)) # [0, 1, 2, 3, 4, 5, 6, 7, 8, 9]\n",
    "l2 = list(range(21,45,3)) # [21, 24, 27, 30, 33, 36, 39, 42]"
   ]
  },
  {
   "cell_type": "code",
   "execution_count": 13,
   "metadata": {},
   "outputs": [
    {
     "data": {
      "text/plain": [
       "[21, 29, 37, 45]"
      ]
     },
     "execution_count": 13,
     "metadata": {},
     "output_type": "execute_result"
    }
   ],
   "source": [
    "l3 = [a+b for a,b in zip(l1,l2) if a%2==0 and b%2!=0] #<- Solution 2.1\n",
    "l3"
   ]
  },
  {
   "cell_type": "markdown",
   "metadata": {},
   "source": [
    "### 2.2: Strips every vowel from a string provided (tsai>>t s)"
   ]
  },
  {
   "cell_type": "code",
   "execution_count": 14,
   "metadata": {},
   "outputs": [
    {
     "data": {
      "text/plain": [
       "'ts Th schl f '"
      ]
     },
     "execution_count": 14,
     "metadata": {},
     "output_type": "execute_result"
    }
   ],
   "source": [
    "# TODO: 2.2 strips every vowel from a string provided (tsai>>t s)\n",
    "str1 = 'tsai The school of AI'\n",
    "''.join([x for x in str1 if x not in {'a', 'A', 'e','E','i', 'I','o', 'O','u', 'U'}])  # Vovels = A, E, I, O, U <- Solution 2.2"
   ]
  },
  {
   "cell_type": "markdown",
   "metadata": {},
   "source": [
    "### 2.3: Acts like a ReLU function for a 1D array"
   ]
  },
  {
   "cell_type": "code",
   "execution_count": 18,
   "metadata": {},
   "outputs": [
    {
     "data": {
      "text/plain": [
       "[0, 0, 2.5, 0, 0, 0, 4.4, 0.3, 2.2, 0]"
      ]
     },
     "execution_count": 18,
     "metadata": {},
     "output_type": "execute_result"
    }
   ],
   "source": [
    "# TODO: 2.3 acts like a ReLU function for a 1D array\n",
    "weights = [round(random.uniform(-5,5),1) for _ in range(10)] # Generate a weight vector of size 10 ->[-4.5, 3.7, -0.1, -1.1, -5.0, 3.7, 4.9, 2.3, -2.7, -2.5]\n",
    "relu_wghts = [x if x >= 0 else 0 for x in weights] #<- Solution 2.3\n",
    "relu_wghts"
   ]
  },
  {
   "cell_type": "markdown",
   "metadata": {},
   "source": [
    "### 2.4: Acts like a sigmoid function for a 1D array"
   ]
  },
  {
   "cell_type": "code",
   "execution_count": 21,
   "metadata": {},
   "outputs": [
    {
     "data": {
      "text/plain": [
       "[0.05, 0.06, 0.92, 0.03, 0.23, 0.01, 0.99, 0.57, 0.9, 0.03]"
      ]
     },
     "execution_count": 21,
     "metadata": {},
     "output_type": "execute_result"
    }
   ],
   "source": [
    "# TODO: 2.4 acts like a sigmoid function for a 1D array\n",
    "sigm_wghts = [round(1 / (1 + math.exp(-x)),2) for x in weights] #<- Solution 2.4\n",
    "sigm_wghts"
   ]
  },
  {
   "cell_type": "markdown",
   "metadata": {},
   "source": [
    "### 2.5: Takes a small character string and shifts all characters by 5 (handle boundary conditions) tsai>>yxfn"
   ]
  },
  {
   "cell_type": "code",
   "execution_count": 22,
   "metadata": {},
   "outputs": [
    {
     "data": {
      "text/plain": [
       "'fghijklmnopqrstuvwxyzabcde'"
      ]
     },
     "execution_count": 22,
     "metadata": {},
     "output_type": "execute_result"
    }
   ],
   "source": [
    "# TODO: 2.5 Takes a small character string and shifts all characters by 5 (handle boundary conditions) tsai>>yxfn\n",
    "str2 = 'abcdefghijklmnopqrstuvwxyz'\n",
    "''.join([chr(ord(ch)+5) if ord(ch) < 118 else chr((ord(ch)+5)%122+96) for ch in str2 ]) #<- Solution 2.5"
   ]
  },
  {
   "cell_type": "markdown",
   "metadata": {},
   "source": [
    "## 3: A list comprehension expression that takes a ~200 word paragraph (write your own paragraph to check), and checks whether it has any of the swear words mentioned in https://github.com/RobertJGabriel/Google-profanity-words/blob/master/list.txt "
   ]
  },
  {
   "cell_type": "code",
   "execution_count": 23,
   "metadata": {},
   "outputs": [],
   "source": [
    "# TODO: 3 A list comprehension expression that takes a ~200 word paragraph, and checks whether it has any of the swear words\n",
    "with open('google_prof_words.txt') as f:\n",
    "        lines = [line.rstrip().lower() for line in f]\n",
    "\n",
    "text = \"\"\"As a teenager, I was banned from an Atheist Republic group of which Armin was admin.\n",
    "Why? I broached a controversial topic. But I had broken no rule. The geniuses simply couldn't handle it,\n",
    "they branded it crazy and expelled me. I learned that day they don't really care for FOE. Received a lot\n",
    "of hate from \"champions of free speech\" for this thread. Armin himself abused me and RTed extremely abusive tweets.\n",
    "Not one counter.All of them said \"how could you justify abuse\" when I never justified any abuse while abusing me at the same time.\n",
    "Oh the irony!I personally detest both the ideas. Insulting someone's mother and insulting mother goddess. And I am not justifying any abuse.\n",
    "I just wish some people realise all humans hold some ideas dear and don't like those to be insulted.The pain of insult is the same\n",
    "Completely missing the point.  I think India is just very new when it comes to freedom of expression.\n",
    "They might just not exactly understand how it all works.  It’s funny to watch them interpret and explain things.\n",
    "It’s like somebody who came to class a few years late\"\"\""
   ]
  },
  {
   "cell_type": "code",
   "execution_count": 26,
   "metadata": {},
   "outputs": [
    {
     "data": {
      "text/plain": [
       "'Good Comment'"
      ]
     },
     "execution_count": 26,
     "metadata": {},
     "output_type": "execute_result"
    }
   ],
   "source": [
    "# Convert to lowercase then, Split text into tokens (words), leaving out punctuation, then use regex to split on non-alphanumeric characters\n",
    "output = 'Good Comment' if not len(([wrd for wrd in re.split(\"[\\\\s.,!?:;'\\\"-]+\",text.lower()) if wrd in lines])) else 'Bad Comment' # <- Solution 3\n",
    "output"
   ]
  },
  {
   "cell_type": "markdown",
   "metadata": {},
   "source": [
    "## 4: Using reduce functions:\n",
    "### 4.1: Add only even numbers in a list"
   ]
  },
  {
   "cell_type": "code",
   "execution_count": 28,
   "metadata": {},
   "outputs": [
    {
     "data": {
      "text/plain": [
       "52"
      ]
     },
     "execution_count": 28,
     "metadata": {},
     "output_type": "execute_result"
    }
   ],
   "source": [
    "lst1 = list(random.randint(1,100) for _ in range(5)) # [48, 89, 56, 88, 31]\n",
    "lst_sum_even = reduce(lambda a,b: a+b if not b%2 else a,lst1,0) #< - Solution 4.1\n",
    "lst_sum_even"
   ]
  },
  {
   "cell_type": "markdown",
   "metadata": {},
   "source": [
    "## 4.2: Find the biggest character in a string (printable ascii characters)"
   ]
  },
  {
   "cell_type": "code",
   "execution_count": 29,
   "metadata": {},
   "outputs": [
    {
     "data": {
      "text/plain": [
       "'̠'"
      ]
     },
     "execution_count": 29,
     "metadata": {},
     "output_type": "execute_result"
    }
   ],
   "source": [
    "# TODO: 4.2 find the biggest character in a string (printable ascii characters)\n",
    "str3 = 'sachzin'+chr(800)+'test' # sachzin'̥'test\n",
    "reduce(lambda a,b: a if ord(a)>ord(b) else b,str3) #< - Solution 4.2"
   ]
  },
  {
   "cell_type": "markdown",
   "metadata": {},
   "source": [
    "## 4.3: Adds every 3rd number in a list"
   ]
  },
  {
   "cell_type": "code",
   "execution_count": 30,
   "metadata": {},
   "outputs": [
    {
     "data": {
      "text/plain": [
       "9"
      ]
     },
     "execution_count": 30,
     "metadata": {},
     "output_type": "execute_result"
    }
   ],
   "source": [
    "# TODO: 4.3 adds every 3rd number in a list\n",
    "lst1 = [1,2,3,4,5,6]\n",
    "reduce(lambda a,b: a+b, [val for indx, val in enumerate(lst1) if not (indx+1)%3]) #<- Solution 4.3"
   ]
  },
  {
   "cell_type": "markdown",
   "metadata": {},
   "source": [
    "## 5: Using randint, random.choice and list comprehensions, write an expression that generates 15 random KADDAADDDD number plates, where KA is fixed, D stands for a digit, and A stands for Capital alphabets. 10<<DD<<99 & 1000<<DDDD<<9999"
   ]
  },
  {
   "cell_type": "code",
   "execution_count": 31,
   "metadata": {},
   "outputs": [
    {
     "data": {
      "text/plain": [
       "['KA87LE2019',\n",
       " 'KA18MP2438',\n",
       " 'KA82RZ4447',\n",
       " 'KA32EW2869',\n",
       " 'KA38MP4449',\n",
       " 'KA75LW2850',\n",
       " 'KA84QA7690',\n",
       " 'KA37LN6871',\n",
       " 'KA43GL9117',\n",
       " 'KA74GG5443',\n",
       " 'KA46ZA1992',\n",
       " 'KA24PB1004',\n",
       " 'KA56JZ9372',\n",
       " 'KA29IL8999',\n",
       " 'KA66DU2156']"
      ]
     },
     "execution_count": 31,
     "metadata": {},
     "output_type": "execute_result"
    }
   ],
   "source": [
    "# TODO: 5. Using randint, random.choice and list comprehensions, write an expression that generates 15 random KADDAADDDD number plates,\n",
    "# where KA is fixed, D stands for a digit, and A stands for Capital alphabets. 10<<DD<<99 & 1000<<DDDD<<9999\n",
    "# there is no need to use random.choice, chr(random.randint(65,90)) is sufficient\n",
    "['KA'+str(random.randint(10,99))+chr(random.randint(65,90))+random.choice([chr(x) for x in range(65,91)])+str(random.randint(1000,9999)) for _ in range(15)]  #<-Solution 5"
   ]
  },
  {
   "cell_type": "markdown",
   "metadata": {},
   "source": [
    "## 6: Write the above again from scratch where KA can be changed to DL, and 1000/9999 ranges can be provided."
   ]
  },
  {
   "cell_type": "code",
   "execution_count": 33,
   "metadata": {},
   "outputs": [],
   "source": [
    "#TODO: 6. Write the above again from scratch where KA can be changed to DL, and 1000/9999 ranges can be provided.\n",
    "def num_plate(state, last_four_start, last_four_end, num):\n",
    "    \"\"\"Generates number plates\n",
    "    Inputs:\n",
    "        state: Two char string in caps for the state\n",
    "        last_four_start: Start of range for last four numbers letters of number plate between 1000 to 9999\n",
    "        last_four_end: End of range for last four numbers letters of number plate between 1000 to 9999\n",
    "        num: number of plates to be returned as output\n",
    "    Returns:\n",
    "        num_plate: List of number plate with number in KADDAADDDD format, D stands for a digit, and A stands for Capital alphabets\"\"\"\n",
    "\n",
    "    if not isinstance(state, str):\n",
    "        raise TypeError(f\"State can be only two char String\")\n",
    "    if not isinstance(last_four_start,int):\n",
    "        raise TypeError(f\"Last four digits should be between 1000 and 9999\")\n",
    "    if not isinstance(last_four_end,int):\n",
    "        raise TypeError(f\"Last four digits should be between 1000 and 9999\")\n",
    "    if not state:\n",
    "        raise ValueError(f\"State can't be null\")\n",
    "\n",
    "    cap_char = [chr(x) for x in range(65,91)]\n",
    "\n",
    "    num_plate = [state+str(random.randint(10,99))+random.choice(cap_char)+random.choice(cap_char)+str(random.randint(last_four_start,last_four_end)) for _ in range(num)]\n",
    "\n",
    "    return(num_plate)"
   ]
  },
  {
   "cell_type": "code",
   "execution_count": 34,
   "metadata": {},
   "outputs": [
    {
     "data": {
      "text/plain": [
       "['DL11MC1675',\n",
       " 'DL93CM6221',\n",
       " 'DL73JY5450',\n",
       " 'DL58EM2259',\n",
       " 'DL97JW2805',\n",
       " 'DL47HJ6401',\n",
       " 'DL53JJ8214',\n",
       " 'DL17KW5889',\n",
       " 'DL28GO4485',\n",
       " 'DL22JW7075',\n",
       " 'DL55TQ4851',\n",
       " 'DL14MN7951',\n",
       " 'DL61AV2682',\n",
       " 'DL48AW3187',\n",
       " 'DL40RF7295']"
      ]
     },
     "execution_count": 34,
     "metadata": {},
     "output_type": "execute_result"
    }
   ],
   "source": [
    "num_plate('DL',1000, 9999, num=15 ) #<- Solution 6"
   ]
  },
  {
   "cell_type": "code",
   "execution_count": null,
   "metadata": {},
   "outputs": [],
   "source": []
  }
 ],
 "metadata": {
  "kernelspec": {
   "display_name": "Python 3",
   "language": "python",
   "name": "python3"
  },
  "language_info": {
   "codemirror_mode": {
    "name": "ipython",
    "version": 3
   },
   "file_extension": ".py",
   "mimetype": "text/x-python",
   "name": "python",
   "nbconvert_exporter": "python",
   "pygments_lexer": "ipython3",
   "version": "3.7.7"
  }
 },
 "nbformat": 4,
 "nbformat_minor": 4
}
